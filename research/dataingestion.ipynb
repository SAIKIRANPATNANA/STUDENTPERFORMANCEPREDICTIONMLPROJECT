{
 "cells": [
  {
   "cell_type": "code",
   "execution_count": 4,
   "metadata": {},
   "outputs": [
    {
     "data": {
      "text/plain": [
       "'/home/user/Documents/ML DL PROJECTS/StudentPerformancePredictionMLProject/research'"
      ]
     },
     "execution_count": 4,
     "metadata": {},
     "output_type": "execute_result"
    }
   ],
   "source": [
    "%pwd"
   ]
  },
  {
   "cell_type": "code",
   "execution_count": 5,
   "metadata": {},
   "outputs": [],
   "source": [
    "import os\n",
    "os.chdir(\"../\")"
   ]
  },
  {
   "cell_type": "code",
   "execution_count": 6,
   "metadata": {},
   "outputs": [
    {
     "name": "stdout",
     "output_type": "stream",
     "text": [
      "sai\n",
      "Entered into the data ingestion method\n"
     ]
    },
    {
     "data": {
      "text/plain": [
       "('artifacts/train.csv', 'artifacts/test.csv')"
      ]
     },
     "execution_count": 6,
     "metadata": {},
     "output_type": "execute_result"
    }
   ],
   "source": [
    "import os\n",
    "import sys\n",
    "from src.StudentPerformancePredictionProject.exception import CustomException\n",
    "from src.StudentPerformancePredictionProject.logger import logging\n",
    "import pandas as pd\n",
    "import numpy as np\n",
    "from sklearn.model_selection import train_test_split\n",
    "from dataclasses import dataclass\n",
    "\n",
    "@dataclass \n",
    "class DataIngestionConfig:\n",
    "    train_data_path = os.path.join(\"artifacts\",\"train.csv\")\n",
    "    test_data_path = os.path.join(\"artifacts\",\"test.csv\")\n",
    "    raw_data_path = os.path.join(\"artifacts\",\"data.csv\")\n",
    "class DataIngestion:\n",
    "    def __init__(self):\n",
    "        self.ingestion_config = DataIngestionConfig()\n",
    "        print('sai')\n",
    "    def initiate_data_ingestion(self):\n",
    "        print(\"Entered into the data ingestion method\")\n",
    "        logging.info(\"Entered into the data ingestion method\")\n",
    "        try:\n",
    "            df = pd.read_csv('/home/user/Documents/ML DL PROJECTS/StudentPerformancePredictionMLProject/datasets/StudentsPerformance.csv')\n",
    "            logging.info('Read the data as pandas dataframe')\n",
    "            os.makedirs(os.path.dirname(self.ingestion_config.train_data_path),exist_ok=True)\n",
    "            logging.info('Train Test Split initiated')\n",
    "            df.to_csv(self.ingestion_config.raw_data_path,index=False, header=True)\n",
    "            train_set,test_set = train_test_split(df,test_size=.25,random_state=42)\n",
    "            train_set.to_csv(self.ingestion_config.train_data_path,index=False, header=True)\n",
    "            test_set.to_csv(self.ingestion_config.test_data_path,index=False, header=True)\n",
    "            logging.info('Data Ingestion Completed')\n",
    "            return (self.ingestion_config.train_data_path,self.ingestion_config.test_data_path)\n",
    "        except Exception as e:\n",
    "            raise CustomException(e,sys)\n",
    "obj = DataIngestion()\n",
    "obj.initiate_data_ingestion()\n"
   ]
  },
  {
   "cell_type": "code",
   "execution_count": null,
   "metadata": {},
   "outputs": [],
   "source": []
  }
 ],
 "metadata": {
  "kernelspec": {
   "display_name": "student",
   "language": "python",
   "name": "python3"
  },
  "language_info": {
   "codemirror_mode": {
    "name": "ipython",
    "version": 3
   },
   "file_extension": ".py",
   "mimetype": "text/x-python",
   "name": "python",
   "nbconvert_exporter": "python",
   "pygments_lexer": "ipython3",
   "version": "3.8.0"
  }
 },
 "nbformat": 4,
 "nbformat_minor": 2
}
